{
 "cells": [
  {
   "cell_type": "code",
   "execution_count": null,
   "id": "0942c64e",
   "metadata": {},
   "outputs": [],
   "source": [
    "UNDERSTANDING VARIABLES IN PYTHON"
   ]
  },
  {
   "cell_type": "code",
   "execution_count": 1,
   "id": "c001d077",
   "metadata": {},
   "outputs": [
    {
     "name": "stdout",
     "output_type": "stream",
     "text": [
      "5\n"
     ]
    }
   ],
   "source": [
    "x= 2 \n",
    "y= 3\n",
    "z = x+y\n",
    "print(z)"
   ]
  },
  {
   "cell_type": "code",
   "execution_count": null,
   "id": "ac79003a",
   "metadata": {},
   "outputs": [],
   "source": [
    "RULES FOR DECALRING VARIABLES IN PYTHON "
   ]
  },
  {
   "cell_type": "code",
   "execution_count": null,
   "id": "9a4afc99",
   "metadata": {},
   "outputs": [],
   "source": [
    "RULE-1 ---> No namespace while declaring variable."
   ]
  },
  {
   "cell_type": "code",
   "execution_count": 2,
   "id": "2fd40d06",
   "metadata": {},
   "outputs": [
    {
     "ename": "SyntaxError",
     "evalue": "invalid syntax (<ipython-input-2-9f6f5fc707e4>, line 1)",
     "output_type": "error",
     "traceback": [
      "\u001b[1;36m  File \u001b[1;32m\"<ipython-input-2-9f6f5fc707e4>\"\u001b[1;36m, line \u001b[1;32m1\u001b[0m\n\u001b[1;33m    first name = 'John'\u001b[0m\n\u001b[1;37m          ^\u001b[0m\n\u001b[1;31mSyntaxError\u001b[0m\u001b[1;31m:\u001b[0m invalid syntax\n"
     ]
    }
   ],
   "source": [
    "first name = 'John'"
   ]
  },
  {
   "cell_type": "code",
   "execution_count": 4,
   "id": "a7f76d0c",
   "metadata": {},
   "outputs": [],
   "source": [
    "firstname = 'John'"
   ]
  },
  {
   "cell_type": "code",
   "execution_count": null,
   "id": "2ad28e12",
   "metadata": {},
   "outputs": [],
   "source": [
    "RULE-2 ---> A variable should not start with numbe. But there can be number in between or end. **"
   ]
  },
  {
   "cell_type": "code",
   "execution_count": 5,
   "id": "ba429dbb",
   "metadata": {},
   "outputs": [
    {
     "ename": "SyntaxError",
     "evalue": "invalid syntax (<ipython-input-5-204688e91b87>, line 1)",
     "output_type": "error",
     "traceback": [
      "\u001b[1;36m  File \u001b[1;32m\"<ipython-input-5-204688e91b87>\"\u001b[1;36m, line \u001b[1;32m1\u001b[0m\n\u001b[1;33m    1name = 'Ben'\u001b[0m\n\u001b[1;37m     ^\u001b[0m\n\u001b[1;31mSyntaxError\u001b[0m\u001b[1;31m:\u001b[0m invalid syntax\n"
     ]
    }
   ],
   "source": [
    "1name = 'Ben'"
   ]
  },
  {
   "cell_type": "code",
   "execution_count": 6,
   "id": "5d132eaa",
   "metadata": {},
   "outputs": [],
   "source": [
    "name1 = 'Ben'"
   ]
  },
  {
   "cell_type": "raw",
   "id": "a530636b",
   "metadata": {},
   "source": []
  },
  {
   "cell_type": "code",
   "execution_count": null,
   "id": "3ed93dfd",
   "metadata": {},
   "outputs": [],
   "source": [
    "RULE-3 ---> A variable should not have any special character."
   ]
  },
  {
   "cell_type": "code",
   "execution_count": 7,
   "id": "ef4689f5",
   "metadata": {},
   "outputs": [
    {
     "ename": "SyntaxError",
     "evalue": "invalid syntax (<ipython-input-7-ea48d0b199ce>, line 1)",
     "output_type": "error",
     "traceback": [
      "\u001b[1;36m  File \u001b[1;32m\"<ipython-input-7-ea48d0b199ce>\"\u001b[1;36m, line \u001b[1;32m1\u001b[0m\n\u001b[1;33m    name@ = 'Mark'\u001b[0m\n\u001b[1;37m          ^\u001b[0m\n\u001b[1;31mSyntaxError\u001b[0m\u001b[1;31m:\u001b[0m invalid syntax\n"
     ]
    }
   ],
   "source": [
    "name@ = 'Mark'"
   ]
  },
  {
   "cell_type": "code",
   "execution_count": 8,
   "id": "25e9e5e0",
   "metadata": {},
   "outputs": [],
   "source": [
    "name = 'Mark'"
   ]
  },
  {
   "cell_type": "code",
   "execution_count": null,
   "id": "c67186fa",
   "metadata": {},
   "outputs": [],
   "source": []
  },
  {
   "cell_type": "code",
   "execution_count": null,
   "id": "1608e3a0",
   "metadata": {},
   "outputs": [],
   "source": [
    "INTODUCTION TO DATA TYPES IN PYTHON"
   ]
  },
  {
   "cell_type": "code",
   "execution_count": null,
   "id": "f18feeac",
   "metadata": {},
   "outputs": [],
   "source": [
    "String ---> str\n",
    "Numbers ---> Integers (int) and Floats (decimals)\n",
    "List ---> list\n",
    "Tuple ---> tuple\n",
    "Dictionaries ---> dic"
   ]
  },
  {
   "cell_type": "code",
   "execution_count": null,
   "id": "45782afd",
   "metadata": {},
   "outputs": [],
   "source": []
  },
  {
   "cell_type": "code",
   "execution_count": null,
   "id": "37d4297d",
   "metadata": {},
   "outputs": [],
   "source": [
    "CLASSIFICTIONS OF DATATYPES"
   ]
  },
  {
   "cell_type": "code",
   "execution_count": null,
   "id": "8ea02ad5",
   "metadata": {},
   "outputs": [],
   "source": [
    "1. Mutable Datatypes ---> We will be able to change or edit the datatypes (Flexible).\n",
    "2. Inmutable Datatypes ---> We wii not be able to change or edit the datatypes (Fixed)."
   ]
  },
  {
   "cell_type": "code",
   "execution_count": null,
   "id": "dd25a9fb",
   "metadata": {},
   "outputs": [],
   "source": []
  },
  {
   "cell_type": "code",
   "execution_count": null,
   "id": "b42ebb1f",
   "metadata": {},
   "outputs": [],
   "source": [
    "INTRODUCTION TO STRING DATATYPES "
   ]
  },
  {
   "cell_type": "code",
   "execution_count": null,
   "id": "9645066d",
   "metadata": {},
   "outputs": [],
   "source": [
    "Definition ---> String is a series of character enclosed in quotes.\n",
    "Classification ---> It is classified as a inmutable datatype."
   ]
  },
  {
   "cell_type": "code",
   "execution_count": null,
   "id": "cfc343b9",
   "metadata": {},
   "outputs": [],
   "source": []
  },
  {
   "cell_type": "code",
   "execution_count": null,
   "id": "5ee7e52a",
   "metadata": {},
   "outputs": [],
   "source": [
    "HOW TO DECLARE A STRING?"
   ]
  },
  {
   "cell_type": "code",
   "execution_count": null,
   "id": "a11f5b34",
   "metadata": {},
   "outputs": [],
   "source": [
    "There are 3 ways.\n",
    "1. Single string ('')\n",
    "2. Double string (\"\")\n",
    "3. Triple string (\"\"\"\"\"\")"
   ]
  },
  {
   "cell_type": "code",
   "execution_count": null,
   "id": "079eda86",
   "metadata": {},
   "outputs": [],
   "source": []
  },
  {
   "cell_type": "code",
   "execution_count": 9,
   "id": "ea083ff5",
   "metadata": {},
   "outputs": [],
   "source": [
    "# is used for commenting the lines in python. It will execute but no output will be there."
   ]
  },
  {
   "cell_type": "code",
   "execution_count": null,
   "id": "55e6c55b",
   "metadata": {},
   "outputs": [],
   "source": []
  },
  {
   "cell_type": "code",
   "execution_count": null,
   "id": "13df04b7",
   "metadata": {},
   "outputs": [],
   "source": [
    "INTRODUCTION TO STRING METHODS "
   ]
  },
  {
   "cell_type": "code",
   "execution_count": null,
   "id": "aaadc1a0",
   "metadata": {},
   "outputs": [],
   "source": [
    "Methods are built in built in programs that are readily available to use in Python.\n",
    "type ---> It will help to validate the datatype."
   ]
  },
  {
   "cell_type": "code",
   "execution_count": null,
   "id": "19e563c7",
   "metadata": {},
   "outputs": [],
   "source": [
    "NOTE ---> Python is case sensitive language."
   ]
  }
 ],
 "metadata": {
  "kernelspec": {
   "display_name": "Python 3",
   "language": "python",
   "name": "python3"
  },
  "language_info": {
   "codemirror_mode": {
    "name": "ipython",
    "version": 3
   },
   "file_extension": ".py",
   "mimetype": "text/x-python",
   "name": "python",
   "nbconvert_exporter": "python",
   "pygments_lexer": "ipython3",
   "version": "3.8.8"
  }
 },
 "nbformat": 4,
 "nbformat_minor": 5
}
