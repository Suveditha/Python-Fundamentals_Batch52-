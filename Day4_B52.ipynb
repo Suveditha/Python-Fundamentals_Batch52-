{
 "cells": [
  {
   "cell_type": "code",
   "execution_count": null,
   "id": "eb34f4ca",
   "metadata": {},
   "outputs": [],
   "source": [
    "INTRODUCTION TO LIST DATATYPES"
   ]
  },
  {
   "cell_type": "code",
   "execution_count": null,
   "id": "2ebd2bf1",
   "metadata": {},
   "outputs": [],
   "source": [
    "Definition ---> A list is selection of item in  particular order.\n",
    "\n",
    "Classifiction ---> It is classified as mutable datatype. (Can be changed)\n",
    "\n",
    "How to declare a list? --->  [] ---> List is declared in square brackets."
   ]
  },
  {
   "cell_type": "code",
   "execution_count": null,
   "id": "3bb0d8c2",
   "metadata": {},
   "outputs": [],
   "source": []
  },
  {
   "cell_type": "code",
   "execution_count": 1,
   "id": "969266f2",
   "metadata": {},
   "outputs": [],
   "source": [
    "students = ['john', 'mark', 'kim', 'jack'] # 0,1,2,3,4,....."
   ]
  },
  {
   "cell_type": "code",
   "execution_count": 2,
   "id": "298a4540",
   "metadata": {},
   "outputs": [
    {
     "name": "stdout",
     "output_type": "stream",
     "text": [
      "['john', 'mark', 'kim', 'jack']\n"
     ]
    }
   ],
   "source": [
    "print(students)"
   ]
  },
  {
   "cell_type": "code",
   "execution_count": null,
   "id": "22479d33",
   "metadata": {},
   "outputs": [],
   "source": []
  },
  {
   "cell_type": "code",
   "execution_count": null,
   "id": "86377e44",
   "metadata": {},
   "outputs": [],
   "source": [
    "How to you validate a datatypes? \n",
    "\n",
    "We can use type to validate a datatype."
   ]
  },
  {
   "cell_type": "code",
   "execution_count": 19,
   "id": "13ffc03a",
   "metadata": {},
   "outputs": [
    {
     "data": {
      "text/plain": [
       "list"
      ]
     },
     "execution_count": 19,
     "metadata": {},
     "output_type": "execute_result"
    }
   ],
   "source": [
    "type(students)"
   ]
  },
  {
   "cell_type": "code",
   "execution_count": null,
   "id": "a8c8e7ed",
   "metadata": {},
   "outputs": [],
   "source": []
  },
  {
   "cell_type": "code",
   "execution_count": null,
   "id": "760f91fd",
   "metadata": {},
   "outputs": [],
   "source": [
    "# requirement ---> How to access a element in a list?"
   ]
  },
  {
   "cell_type": "code",
   "execution_count": null,
   "id": "a4386a3a",
   "metadata": {},
   "outputs": [],
   "source": [
    "We use indexing to access a element in list. #indexing: 0,1,2,3,4,..."
   ]
  },
  {
   "cell_type": "code",
   "execution_count": 4,
   "id": "538c94fa",
   "metadata": {},
   "outputs": [
    {
     "name": "stdout",
     "output_type": "stream",
     "text": [
      "kim\n"
     ]
    }
   ],
   "source": [
    "print(students[2])"
   ]
  },
  {
   "cell_type": "code",
   "execution_count": null,
   "id": "5e9d012c",
   "metadata": {},
   "outputs": [],
   "source": [
    "# Requirement ---> we wnat first letter of the name in caps."
   ]
  },
  {
   "cell_type": "code",
   "execution_count": 5,
   "id": "d1d3929b",
   "metadata": {},
   "outputs": [
    {
     "name": "stdout",
     "output_type": "stream",
     "text": [
      "Kim\n"
     ]
    }
   ],
   "source": [
    "print(students[2].title())"
   ]
  },
  {
   "cell_type": "code",
   "execution_count": null,
   "id": "302da3aa",
   "metadata": {},
   "outputs": [],
   "source": []
  },
  {
   "cell_type": "code",
   "execution_count": null,
   "id": "a0cfbe8b",
   "metadata": {},
   "outputs": [],
   "source": [
    "1. How to add a element in list?"
   ]
  },
  {
   "cell_type": "code",
   "execution_count": null,
   "id": "ea61a9a6",
   "metadata": {},
   "outputs": [],
   "source": [
    "# Requirement ---> We wnat to add jill to the list"
   ]
  },
  {
   "cell_type": "code",
   "execution_count": 6,
   "id": "7c4f6de7",
   "metadata": {},
   "outputs": [],
   "source": [
    "students.append('jill')"
   ]
  },
  {
   "cell_type": "code",
   "execution_count": 7,
   "id": "94e1beff",
   "metadata": {},
   "outputs": [
    {
     "name": "stdout",
     "output_type": "stream",
     "text": [
      "['john', 'mark', 'kim', 'jack', 'jill']\n"
     ]
    }
   ],
   "source": [
    "print(students)"
   ]
  },
  {
   "cell_type": "code",
   "execution_count": null,
   "id": "fae43ef7",
   "metadata": {},
   "outputs": [],
   "source": [
    "# Now we can jill is addede to the list"
   ]
  },
  {
   "cell_type": "code",
   "execution_count": null,
   "id": "fbde8df4",
   "metadata": {},
   "outputs": [],
   "source": []
  },
  {
   "cell_type": "code",
   "execution_count": null,
   "id": "7b95be86",
   "metadata": {},
   "outputs": [],
   "source": [
    "2. How to modify the elements in a list?"
   ]
  },
  {
   "cell_type": "code",
   "execution_count": null,
   "id": "f379eda0",
   "metadata": {},
   "outputs": [],
   "source": [
    "# Reqirement ---> We wnat to add ben in place 3"
   ]
  },
  {
   "cell_type": "code",
   "execution_count": 8,
   "id": "8fe7cd40",
   "metadata": {},
   "outputs": [],
   "source": [
    "students.insert(3,'ben')"
   ]
  },
  {
   "cell_type": "code",
   "execution_count": 9,
   "id": "5f6ba08a",
   "metadata": {},
   "outputs": [
    {
     "name": "stdout",
     "output_type": "stream",
     "text": [
      "['john', 'mark', 'kim', 'ben', 'jack', 'jill']\n"
     ]
    }
   ],
   "source": [
    "print(students)"
   ]
  },
  {
   "cell_type": "code",
   "execution_count": 10,
   "id": "fe31caa2",
   "metadata": {},
   "outputs": [
    {
     "name": "stdout",
     "output_type": "stream",
     "text": [
      "ben\n"
     ]
    }
   ],
   "source": [
    "print(students[3])"
   ]
  },
  {
   "cell_type": "code",
   "execution_count": null,
   "id": "44a6718b",
   "metadata": {},
   "outputs": [],
   "source": []
  },
  {
   "cell_type": "code",
   "execution_count": null,
   "id": "4b7fdbaa",
   "metadata": {},
   "outputs": [],
   "source": [
    "# Requirement ---> We have to change jhon's name to april"
   ]
  },
  {
   "cell_type": "code",
   "execution_count": 13,
   "id": "65cfce2c",
   "metadata": {},
   "outputs": [],
   "source": [
    "students[0] = 'april'"
   ]
  },
  {
   "cell_type": "code",
   "execution_count": 14,
   "id": "233f45dc",
   "metadata": {},
   "outputs": [
    {
     "name": "stdout",
     "output_type": "stream",
     "text": [
      "['april', 'mark', 'kim', 'ben', 'jack', 'jill']\n"
     ]
    }
   ],
   "source": [
    "print(students)"
   ]
  },
  {
   "cell_type": "code",
   "execution_count": null,
   "id": "f720f983",
   "metadata": {},
   "outputs": [],
   "source": []
  },
  {
   "cell_type": "code",
   "execution_count": null,
   "id": "3a625ec0",
   "metadata": {},
   "outputs": [],
   "source": [
    "3. How to delete a element from a list?"
   ]
  },
  {
   "cell_type": "code",
   "execution_count": null,
   "id": "6d19ee96",
   "metadata": {},
   "outputs": [],
   "source": [
    "# Requirement ---> We have to delete jill from the list"
   ]
  },
  {
   "cell_type": "code",
   "execution_count": 15,
   "id": "558ce06c",
   "metadata": {},
   "outputs": [],
   "source": [
    "del students[5]"
   ]
  },
  {
   "cell_type": "code",
   "execution_count": 16,
   "id": "f00663b1",
   "metadata": {},
   "outputs": [
    {
     "name": "stdout",
     "output_type": "stream",
     "text": [
      "['april', 'mark', 'kim', 'ben', 'jack']\n"
     ]
    }
   ],
   "source": [
    "print(students)"
   ]
  },
  {
   "cell_type": "code",
   "execution_count": null,
   "id": "a7b9f342",
   "metadata": {},
   "outputs": [],
   "source": []
  },
  {
   "cell_type": "code",
   "execution_count": null,
   "id": "d9542a52",
   "metadata": {},
   "outputs": [],
   "source": [
    "# INTERVIEW QUESTION: What is the difference between append and insert? **"
   ]
  },
  {
   "cell_type": "code",
   "execution_count": null,
   "id": "63f15214",
   "metadata": {},
   "outputs": [],
   "source": [
    "Answer: Both append and insert are used to add an element to a list.\n",
    "        The difference is when we use append the element is added to the last place of the list. and when we use insert we can\n",
    "        specify the place or number to which the elemet should be added"
   ]
  },
  {
   "cell_type": "code",
   "execution_count": 17,
   "id": "6b20e09b",
   "metadata": {},
   "outputs": [
    {
     "name": "stdout",
     "output_type": "stream",
     "text": [
      "['april', 'mark', 'kim', 'ben', 'jack', 'jill']\n"
     ]
    }
   ],
   "source": [
    "students.append('jill') ---> Example for append, Here we can see jill is added to the last place.\n",
    "\n",
    "print(students)"
   ]
  },
  {
   "cell_type": "code",
   "execution_count": 18,
   "id": "191fc054",
   "metadata": {},
   "outputs": [
    {
     "name": "stdout",
     "output_type": "stream",
     "text": [
      "['april', 'mark', 'kim', 'ben', 'ben', 'jack', 'jill']\n"
     ]
    }
   ],
   "source": [
    "students.insert(3,'ben') ---> Example for insert, Here we can see ben is added to the 3rd place.\n",
    "\n",
    "print(students)"
   ]
  },
  {
   "cell_type": "code",
   "execution_count": null,
   "id": "f579f765",
   "metadata": {},
   "outputs": [],
   "source": []
  }
 ],
 "metadata": {
  "kernelspec": {
   "display_name": "Python 3",
   "language": "python",
   "name": "python3"
  },
  "language_info": {
   "codemirror_mode": {
    "name": "ipython",
    "version": 3
   },
   "file_extension": ".py",
   "mimetype": "text/x-python",
   "name": "python",
   "nbconvert_exporter": "python",
   "pygments_lexer": "ipython3",
   "version": "3.8.8"
  }
 },
 "nbformat": 4,
 "nbformat_minor": 5
}
