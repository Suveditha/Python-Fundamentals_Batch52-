{
 "cells": [
  {
   "cell_type": "code",
   "execution_count": null,
   "id": "53f5a16f",
   "metadata": {},
   "outputs": [],
   "source": []
  },
  {
   "cell_type": "code",
   "execution_count": 1,
   "id": "5218ca1a",
   "metadata": {},
   "outputs": [
    {
     "name": "stdout",
     "output_type": "stream",
     "text": [
      "john\n"
     ]
    }
   ],
   "source": [
    "fullname = 'john'\n",
    "\n",
    "print(fullname)"
   ]
  },
  {
   "cell_type": "code",
   "execution_count": null,
   "id": "1b1700aa",
   "metadata": {},
   "outputs": [],
   "source": [
    "Requirement ---> First letter in caps"
   ]
  },
  {
   "cell_type": "code",
   "execution_count": 4,
   "id": "ac744a13",
   "metadata": {},
   "outputs": [
    {
     "name": "stdout",
     "output_type": "stream",
     "text": [
      "John\n"
     ]
    }
   ],
   "source": [
    "print(fullname.title())"
   ]
  },
  {
   "cell_type": "code",
   "execution_count": null,
   "id": "333bc9e7",
   "metadata": {},
   "outputs": [],
   "source": [
    "Requirement ---> I want full name in capitals."
   ]
  },
  {
   "cell_type": "code",
   "execution_count": 5,
   "id": "9e9e5644",
   "metadata": {},
   "outputs": [
    {
     "name": "stdout",
     "output_type": "stream",
     "text": [
      "JOHN\n"
     ]
    }
   ],
   "source": [
    "print(fullname.upper())"
   ]
  },
  {
   "cell_type": "code",
   "execution_count": null,
   "id": "8d625792",
   "metadata": {},
   "outputs": [],
   "source": [
    "Requriement ---> I want fullname in lower."
   ]
  },
  {
   "cell_type": "code",
   "execution_count": 6,
   "id": "ef6299c3",
   "metadata": {},
   "outputs": [
    {
     "name": "stdout",
     "output_type": "stream",
     "text": [
      "john\n"
     ]
    }
   ],
   "source": [
    "print(fullname.lower())"
   ]
  },
  {
   "cell_type": "code",
   "execution_count": null,
   "id": "c861a335",
   "metadata": {},
   "outputs": [],
   "source": []
  },
  {
   "cell_type": "code",
   "execution_count": 9,
   "id": "38c4e0c7",
   "metadata": {},
   "outputs": [],
   "source": [
    "firstname = 'mark'\n",
    "lastname = 'antony'"
   ]
  },
  {
   "cell_type": "code",
   "execution_count": null,
   "id": "25cc1c8d",
   "metadata": {},
   "outputs": [],
   "source": [
    "Requirement ---> I want fullname."
   ]
  },
  {
   "cell_type": "code",
   "execution_count": null,
   "id": "b41d8b75",
   "metadata": {},
   "outputs": [],
   "source": []
  },
  {
   "cell_type": "code",
   "execution_count": null,
   "id": "4a2f710c",
   "metadata": {},
   "outputs": [],
   "source": [
    "INTORDUCTION TO f STRINGS **"
   ]
  },
  {
   "cell_type": "code",
   "execution_count": null,
   "id": "93e4b2bc",
   "metadata": {},
   "outputs": [],
   "source": [
    "# generate syntax of a f strings."
   ]
  },
  {
   "cell_type": "code",
   "execution_count": null,
   "id": "23aa5f4b",
   "metadata": {},
   "outputs": [],
   "source": [
    "f\"custom words, {placeholder1}{placeholder2}{placeholern}\""
   ]
  },
  {
   "cell_type": "code",
   "execution_count": 12,
   "id": "adc1360e",
   "metadata": {},
   "outputs": [
    {
     "name": "stdout",
     "output_type": "stream",
     "text": [
      "mark antony\n"
     ]
    }
   ],
   "source": [
    "fullname = f\"{firstname} {lastname}\"\n",
    "\n",
    "print(fullname)"
   ]
  },
  {
   "cell_type": "code",
   "execution_count": 14,
   "id": "b464a136",
   "metadata": {},
   "outputs": [
    {
     "name": "stdout",
     "output_type": "stream",
     "text": [
      "Mark Antony\n"
     ]
    }
   ],
   "source": [
    "print(fullname.title())"
   ]
  },
  {
   "cell_type": "code",
   "execution_count": null,
   "id": "baea0d22",
   "metadata": {},
   "outputs": [],
   "source": []
  },
  {
   "cell_type": "code",
   "execution_count": null,
   "id": "5c0b69f2",
   "metadata": {},
   "outputs": [],
   "source": [
    "Requirement ---> To apappreciate "
   ]
  },
  {
   "cell_type": "code",
   "execution_count": 16,
   "id": "efe57625",
   "metadata": {},
   "outputs": [
    {
     "name": "stdout",
     "output_type": "stream",
     "text": [
      "keep the good work, Mark Antony\n"
     ]
    }
   ],
   "source": [
    "message = f\"keep the good work, {fullname.title()}\"\n",
    "\n",
    "print(message)"
   ]
  },
  {
   "cell_type": "code",
   "execution_count": null,
   "id": "b9dc7f4b",
   "metadata": {},
   "outputs": [],
   "source": []
  },
  {
   "cell_type": "code",
   "execution_count": null,
   "id": "3bfabf65",
   "metadata": {},
   "outputs": [],
   "source": [
    "ADDING WHITESPACES TO A STRING"
   ]
  },
  {
   "cell_type": "code",
   "execution_count": null,
   "id": "9875f4fb",
   "metadata": {},
   "outputs": [],
   "source": [
    "# Requirement --->  survey to choose the favourite programming language"
   ]
  },
  {
   "cell_type": "code",
   "execution_count": 19,
   "id": "99070b53",
   "metadata": {},
   "outputs": [
    {
     "name": "stdout",
     "output_type": "stream",
     "text": [
      "favourite_language: pythoncjavac++pascal\n"
     ]
    }
   ],
   "source": [
    "print('favourite_language: pythoncjavac++pascal')"
   ]
  },
  {
   "cell_type": "code",
   "execution_count": null,
   "id": "b50c7ace",
   "metadata": {},
   "outputs": [],
   "source": []
  },
  {
   "cell_type": "code",
   "execution_count": null,
   "id": "2ac73b88",
   "metadata": {},
   "outputs": [],
   "source": [
    "\\n ---> it is call new line delimiter"
   ]
  },
  {
   "cell_type": "code",
   "execution_count": 23,
   "id": "21928c5b",
   "metadata": {},
   "outputs": [
    {
     "name": "stdout",
     "output_type": "stream",
     "text": [
      "favourite_language: \n",
      "python\n",
      "c\n",
      "java\n",
      "c++\n",
      "pascal\n"
     ]
    }
   ],
   "source": [
    "print('favourite_language: \\npython\\nc\\njava\\nc++\\npascal')"
   ]
  },
  {
   "cell_type": "code",
   "execution_count": null,
   "id": "46c6794f",
   "metadata": {},
   "outputs": [],
   "source": [
    "\\t ---> Tab delimiter"
   ]
  },
  {
   "cell_type": "code",
   "execution_count": 24,
   "id": "ddba5c36",
   "metadata": {},
   "outputs": [
    {
     "name": "stdout",
     "output_type": "stream",
     "text": [
      "favourite_language: \n",
      "\tpython\n",
      "\tc\n",
      "\tjava\n",
      "\tc++\n",
      "\tpascal\n"
     ]
    }
   ],
   "source": [
    "print('favourite_language: \\n\\tpython\\n\\tc\\n\\tjava\\n\\tc++\\n\\tpascal')"
   ]
  },
  {
   "cell_type": "code",
   "execution_count": null,
   "id": "cffb4dd9",
   "metadata": {},
   "outputs": [],
   "source": []
  },
  {
   "cell_type": "code",
   "execution_count": null,
   "id": "787edf8f",
   "metadata": {},
   "outputs": [],
   "source": [
    "REMOVING WHITESPACES FROM STRINGS:"
   ]
  },
  {
   "cell_type": "code",
   "execution_count": 25,
   "id": "6ac7dbf5",
   "metadata": {},
   "outputs": [
    {
     "name": "stdout",
     "output_type": "stream",
     "text": [
      "jack\n"
     ]
    }
   ],
   "source": [
    "name = \"jack\"\n",
    "\n",
    "print(name)"
   ]
  },
  {
   "cell_type": "code",
   "execution_count": 26,
   "id": "816b0092",
   "metadata": {},
   "outputs": [
    {
     "name": "stdout",
     "output_type": "stream",
     "text": [
      "  jack\n"
     ]
    }
   ],
   "source": [
    "name1 = \"  jack\"\n",
    "\n",
    "print(name1)"
   ]
  },
  {
   "cell_type": "code",
   "execution_count": 27,
   "id": "a3298bae",
   "metadata": {},
   "outputs": [
    {
     "name": "stdout",
     "output_type": "stream",
     "text": [
      "jack\n"
     ]
    }
   ],
   "source": [
    "print(name1.lstrip()) # remove space from left"
   ]
  },
  {
   "cell_type": "code",
   "execution_count": 28,
   "id": "03f80efb",
   "metadata": {},
   "outputs": [
    {
     "name": "stdout",
     "output_type": "stream",
     "text": [
      "jack  \n"
     ]
    }
   ],
   "source": [
    "name2 = \"jack  \"\n",
    "\n",
    "print(name2)"
   ]
  },
  {
   "cell_type": "code",
   "execution_count": 29,
   "id": "f208507a",
   "metadata": {},
   "outputs": [
    {
     "name": "stdout",
     "output_type": "stream",
     "text": [
      "jack\n"
     ]
    }
   ],
   "source": [
    "print(name.rstrip()) # remove space from right"
   ]
  },
  {
   "cell_type": "code",
   "execution_count": 30,
   "id": "2bbc738c",
   "metadata": {},
   "outputs": [
    {
     "name": "stdout",
     "output_type": "stream",
     "text": [
      "  jack  \n"
     ]
    }
   ],
   "source": [
    "name3 = \"  jack  \"\n",
    "\n",
    "print(name3)"
   ]
  },
  {
   "cell_type": "code",
   "execution_count": 31,
   "id": "dc314b60",
   "metadata": {},
   "outputs": [
    {
     "name": "stdout",
     "output_type": "stream",
     "text": [
      "jack\n"
     ]
    }
   ],
   "source": [
    "print(name3.strip()) # checkes and removes from both the sides"
   ]
  },
  {
   "cell_type": "code",
   "execution_count": null,
   "id": "f3e028d5",
   "metadata": {},
   "outputs": [],
   "source": []
  }
 ],
 "metadata": {
  "kernelspec": {
   "display_name": "Python 3",
   "language": "python",
   "name": "python3"
  },
  "language_info": {
   "codemirror_mode": {
    "name": "ipython",
    "version": 3
   },
   "file_extension": ".py",
   "mimetype": "text/x-python",
   "name": "python",
   "nbconvert_exporter": "python",
   "pygments_lexer": "ipython3",
   "version": "3.8.8"
  }
 },
 "nbformat": 4,
 "nbformat_minor": 5
}
