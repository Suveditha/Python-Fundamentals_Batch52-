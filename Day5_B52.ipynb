{
 "cells": [
  {
   "cell_type": "code",
   "execution_count": null,
   "id": "f716ce0f",
   "metadata": {},
   "outputs": [],
   "source": [
    "ORGANIZING THE LIST DATATYPE"
   ]
  },
  {
   "cell_type": "code",
   "execution_count": 4,
   "id": "fc7782de",
   "metadata": {},
   "outputs": [],
   "source": [
    "disneycharacters = ['elsa', 'ariel', 'bela', 'merida', 'cinderella', 'moana']"
   ]
  },
  {
   "cell_type": "code",
   "execution_count": 5,
   "id": "e69da244",
   "metadata": {},
   "outputs": [
    {
     "name": "stdout",
     "output_type": "stream",
     "text": [
      "['elsa', 'ariel', 'bela', 'merida', 'cinderella', 'moana']\n"
     ]
    }
   ],
   "source": [
    "print(disneycharacters)"
   ]
  },
  {
   "cell_type": "code",
   "execution_count": 6,
   "id": "7ad14167",
   "metadata": {},
   "outputs": [
    {
     "data": {
      "text/plain": [
       "list"
      ]
     },
     "execution_count": 6,
     "metadata": {},
     "output_type": "execute_result"
    }
   ],
   "source": [
    "type(disneycharacters)"
   ]
  },
  {
   "cell_type": "code",
   "execution_count": null,
   "id": "34007635",
   "metadata": {},
   "outputs": [],
   "source": []
  },
  {
   "cell_type": "code",
   "execution_count": null,
   "id": "96f3f655",
   "metadata": {},
   "outputs": [],
   "source": [
    "# Requirement ---> we want to organise the above list in alphabetical order (a to z)"
   ]
  },
  {
   "cell_type": "code",
   "execution_count": null,
   "id": "87f4066e",
   "metadata": {},
   "outputs": [],
   "source": []
  },
  {
   "cell_type": "code",
   "execution_count": null,
   "id": "440c1b66",
   "metadata": {},
   "outputs": [],
   "source": [
    "It can be done in 2 possible ways:\n",
    "    1. Temporary approch ---> The changes are temporary. We can maintain the original order of the list ===> sorted\n",
    "    2. Permanent approch ---> The changes are fixed. We cannot get the original order ===> sort"
   ]
  },
  {
   "cell_type": "code",
   "execution_count": null,
   "id": "e8d4a1be",
   "metadata": {},
   "outputs": [],
   "source": []
  },
  {
   "cell_type": "code",
   "execution_count": 7,
   "id": "9d37c12a",
   "metadata": {},
   "outputs": [
    {
     "name": "stdout",
     "output_type": "stream",
     "text": [
      "['ariel', 'bela', 'cinderella', 'elsa', 'merida', 'moana']\n"
     ]
    }
   ],
   "source": [
    "print(sorted(disneycharacters))   # Temporary approch A - Z"
   ]
  },
  {
   "cell_type": "code",
   "execution_count": 8,
   "id": "fa1e9116",
   "metadata": {},
   "outputs": [
    {
     "name": "stdout",
     "output_type": "stream",
     "text": [
      "['elsa', 'ariel', 'bela', 'merida', 'cinderella', 'moana']\n"
     ]
    }
   ],
   "source": [
    "print(disneycharacters) # We can see that the original order is again there."
   ]
  },
  {
   "cell_type": "code",
   "execution_count": null,
   "id": "065d6b30",
   "metadata": {},
   "outputs": [],
   "source": []
  },
  {
   "cell_type": "code",
   "execution_count": 10,
   "id": "9edbacd8",
   "metadata": {},
   "outputs": [],
   "source": [
    "disneycharacters.sort() # PermanPermanent approach "
   ]
  },
  {
   "cell_type": "code",
   "execution_count": 11,
   "id": "568b517d",
   "metadata": {},
   "outputs": [
    {
     "name": "stdout",
     "output_type": "stream",
     "text": [
      "['ariel', 'bela', 'cinderella', 'elsa', 'merida', 'moana']\n"
     ]
    }
   ],
   "source": [
    "print(disneycharacters) # How many times we print the new order will only repeat, The old order will not come."
   ]
  },
  {
   "cell_type": "code",
   "execution_count": 12,
   "id": "a8f0c42f",
   "metadata": {},
   "outputs": [
    {
     "name": "stdout",
     "output_type": "stream",
     "text": [
      "['ariel', 'bela', 'cinderella', 'elsa', 'merida', 'moana']\n"
     ]
    }
   ],
   "source": [
    "print(disneycharacters)"
   ]
  },
  {
   "cell_type": "code",
   "execution_count": null,
   "id": "60f7c452",
   "metadata": {},
   "outputs": [],
   "source": []
  },
  {
   "cell_type": "code",
   "execution_count": null,
   "id": "30a3afb8",
   "metadata": {},
   "outputs": [],
   "source": [
    "# Requirement ---> How to print a list in reverse order?"
   ]
  },
  {
   "cell_type": "code",
   "execution_count": 13,
   "id": "059c8465",
   "metadata": {},
   "outputs": [],
   "source": [
    "disneycharacters.reverse() ---> The changes are applied permanently "
   ]
  },
  {
   "cell_type": "code",
   "execution_count": 14,
   "id": "8a3a1637",
   "metadata": {},
   "outputs": [
    {
     "name": "stdout",
     "output_type": "stream",
     "text": [
      "['moana', 'merida', 'elsa', 'cinderella', 'bela', 'ariel']\n"
     ]
    }
   ],
   "source": [
    "print(disneycharacters)"
   ]
  },
  {
   "cell_type": "code",
   "execution_count": 15,
   "id": "cc27bf6a",
   "metadata": {},
   "outputs": [
    {
     "name": "stdout",
     "output_type": "stream",
     "text": [
      "['moana', 'merida', 'elsa', 'cinderella', 'bela', 'ariel']\n"
     ]
    }
   ],
   "source": [
    "print(disneycharacters)"
   ]
  },
  {
   "cell_type": "code",
   "execution_count": null,
   "id": "f3aeb7ee",
   "metadata": {},
   "outputs": [],
   "source": []
  },
  {
   "cell_type": "code",
   "execution_count": null,
   "id": "59475060",
   "metadata": {},
   "outputs": [],
   "source": [
    "# Requirement ---> How to count the number of elements in a list?"
   ]
  },
  {
   "cell_type": "code",
   "execution_count": 16,
   "id": "ebaaa44f",
   "metadata": {},
   "outputs": [
    {
     "data": {
      "text/plain": [
       "6"
      ]
     },
     "execution_count": 16,
     "metadata": {},
     "output_type": "execute_result"
    }
   ],
   "source": [
    "len(disneycharacters)    # len ---> length"
   ]
  },
  {
   "cell_type": "code",
   "execution_count": null,
   "id": "1c7a496f",
   "metadata": {},
   "outputs": [],
   "source": []
  },
  {
   "cell_type": "code",
   "execution_count": null,
   "id": "6cd3a704",
   "metadata": {},
   "outputs": [],
   "source": [
    "SLICING OF LISTS"
   ]
  },
  {
   "cell_type": "code",
   "execution_count": 17,
   "id": "90b12a6a",
   "metadata": {},
   "outputs": [],
   "source": [
    "students = ['jack', 'rose', 'john', 'alice', 'ben', 'mark']"
   ]
  },
  {
   "cell_type": "code",
   "execution_count": 18,
   "id": "45da1bac",
   "metadata": {},
   "outputs": [
    {
     "name": "stdout",
     "output_type": "stream",
     "text": [
      "['jack', 'rose', 'john', 'alice', 'ben', 'mark']\n"
     ]
    }
   ],
   "source": [
    "print(students)"
   ]
  },
  {
   "cell_type": "code",
   "execution_count": null,
   "id": "01279034",
   "metadata": {},
   "outputs": [],
   "source": []
  },
  {
   "cell_type": "code",
   "execution_count": null,
   "id": "eff502b1",
   "metadata": {},
   "outputs": [],
   "source": [
    "General Syntax Slicing"
   ]
  },
  {
   "cell_type": "code",
   "execution_count": null,
   "id": "8c3b2ae4",
   "metadata": {},
   "outputs": [],
   "source": [
    "    Slicing is procedure of grouping. We can change the index and get different set of group."
   ]
  },
  {
   "cell_type": "code",
   "execution_count": null,
   "id": "beee7a12",
   "metadata": {},
   "outputs": [],
   "source": [
    "    startvalue : stopvalue : stepcount ===> indexing"
   ]
  },
  {
   "cell_type": "code",
   "execution_count": 19,
   "id": "cf394b1d",
   "metadata": {},
   "outputs": [],
   "source": [
    "# Note1 ---> Lastvalue or stopvalue is always exclusive, that means it will not be included in part of the slice."
   ]
  },
  {
   "cell_type": "code",
   "execution_count": 20,
   "id": "4b1bb2ac",
   "metadata": {},
   "outputs": [],
   "source": [
    "# Note2 ---> Increase the index number by 1 to include the lastvalue or stopvaule."
   ]
  },
  {
   "cell_type": "code",
   "execution_count": null,
   "id": "c1cc9dc7",
   "metadata": {},
   "outputs": [],
   "source": []
  },
  {
   "cell_type": "code",
   "execution_count": null,
   "id": "8dbda0b7",
   "metadata": {},
   "outputs": [],
   "source": [
    "# Requirement ---> We have to slice jack alone"
   ]
  },
  {
   "cell_type": "code",
   "execution_count": 22,
   "id": "ca6257ab",
   "metadata": {},
   "outputs": [
    {
     "name": "stdout",
     "output_type": "stream",
     "text": [
      "['jack']\n"
     ]
    }
   ],
   "source": [
    "print(students[0:1])"
   ]
  },
  {
   "cell_type": "code",
   "execution_count": null,
   "id": "e4489764",
   "metadata": {},
   "outputs": [],
   "source": []
  },
  {
   "cell_type": "code",
   "execution_count": null,
   "id": "98ab18cd",
   "metadata": {},
   "outputs": [],
   "source": [
    "# Requirement ---> We have to slice jack and rose"
   ]
  },
  {
   "cell_type": "code",
   "execution_count": 21,
   "id": "dda94ecc",
   "metadata": {},
   "outputs": [
    {
     "name": "stdout",
     "output_type": "stream",
     "text": [
      "['jack', 'rose']\n"
     ]
    }
   ],
   "source": [
    "print(students[0:2])"
   ]
  },
  {
   "cell_type": "code",
   "execution_count": null,
   "id": "6886ca4c",
   "metadata": {},
   "outputs": [],
   "source": []
  },
  {
   "cell_type": "code",
   "execution_count": null,
   "id": "a337936f",
   "metadata": {},
   "outputs": [],
   "source": [
    "# Requirement ---> We have to slice john and alice"
   ]
  },
  {
   "cell_type": "code",
   "execution_count": 23,
   "id": "386ae2ba",
   "metadata": {},
   "outputs": [
    {
     "name": "stdout",
     "output_type": "stream",
     "text": [
      "['john', 'alice']\n"
     ]
    }
   ],
   "source": [
    "print(students[2:4])"
   ]
  },
  {
   "cell_type": "code",
   "execution_count": null,
   "id": "bb63055a",
   "metadata": {},
   "outputs": [],
   "source": []
  },
  {
   "cell_type": "code",
   "execution_count": null,
   "id": "b3264ba7",
   "metadata": {},
   "outputs": [],
   "source": [
    "# Requirement ---> We have to slice ben and mark"
   ]
  },
  {
   "cell_type": "code",
   "execution_count": 25,
   "id": "3c06a5fb",
   "metadata": {},
   "outputs": [
    {
     "name": "stdout",
     "output_type": "stream",
     "text": [
      "['ben', 'mark']\n"
     ]
    }
   ],
   "source": [
    "print(students[4:7])"
   ]
  },
  {
   "cell_type": "code",
   "execution_count": null,
   "id": "a83e3b32",
   "metadata": {},
   "outputs": [],
   "source": []
  },
  {
   "cell_type": "code",
   "execution_count": null,
   "id": "99d881de",
   "metadata": {},
   "outputs": [],
   "source": [
    "# Requirement ---> We have to slice mark only"
   ]
  },
  {
   "cell_type": "code",
   "execution_count": 26,
   "id": "d0e70028",
   "metadata": {},
   "outputs": [
    {
     "name": "stdout",
     "output_type": "stream",
     "text": [
      "['mark']\n"
     ]
    }
   ],
   "source": [
    "print(students[5:7])"
   ]
  },
  {
   "cell_type": "code",
   "execution_count": null,
   "id": "3dc7faf0",
   "metadata": {},
   "outputs": [],
   "source": []
  },
  {
   "cell_type": "code",
   "execution_count": null,
   "id": "136c35fe",
   "metadata": {},
   "outputs": [],
   "source": [
    "# Requirement ---> We have to slice jack, john, ben"
   ]
  },
  {
   "cell_type": "code",
   "execution_count": 28,
   "id": "23f17dd3",
   "metadata": {},
   "outputs": [
    {
     "name": "stdout",
     "output_type": "stream",
     "text": [
      "['jack', 'john', 'ben']\n"
     ]
    }
   ],
   "source": [
    "print(students[0:6:2])"
   ]
  },
  {
   "cell_type": "code",
   "execution_count": null,
   "id": "16155cf4",
   "metadata": {},
   "outputs": [],
   "source": []
  },
  {
   "cell_type": "code",
   "execution_count": null,
   "id": "bee7594f",
   "metadata": {},
   "outputs": [],
   "source": [
    "# Requirement ---> We have to slice rose and ben"
   ]
  },
  {
   "cell_type": "code",
   "execution_count": 29,
   "id": "76ead390",
   "metadata": {},
   "outputs": [
    {
     "name": "stdout",
     "output_type": "stream",
     "text": [
      "['rose', 'ben']\n"
     ]
    }
   ],
   "source": [
    "print(students[1:7:3])"
   ]
  },
  {
   "cell_type": "code",
   "execution_count": null,
   "id": "5f82d06c",
   "metadata": {},
   "outputs": [],
   "source": []
  }
 ],
 "metadata": {
  "kernelspec": {
   "display_name": "Python 3",
   "language": "python",
   "name": "python3"
  },
  "language_info": {
   "codemirror_mode": {
    "name": "ipython",
    "version": 3
   },
   "file_extension": ".py",
   "mimetype": "text/x-python",
   "name": "python",
   "nbconvert_exporter": "python",
   "pygments_lexer": "ipython3",
   "version": "3.8.8"
  }
 },
 "nbformat": 4,
 "nbformat_minor": 5
}
